{
 "cells": [
  {
   "cell_type": "code",
   "execution_count": null,
   "metadata": {},
   "outputs": [],
   "source": [
    "import torch \n",
    "\n",
    "# Ensure CUDA support is available \n",
    "if torch.cuda.is_available(): \n",
    "    \n",
    "# Perform operations on GPU \n",
    "    device = torch.device(\"cuda\") # ... \n",
    "# Clear CUDA memory \n",
    "    torch.cuda.empty_cache() \n",
    "else: \n",
    "    print(\"CUDA is not available.\")"
   ]
  },
  {
   "cell_type": "code",
   "execution_count": null,
   "metadata": {},
   "outputs": [],
   "source": [
    "device = torch.device(\"cuda:0\")\n",
    "device"
   ]
  },
  {
   "cell_type": "code",
   "execution_count": null,
   "metadata": {},
   "outputs": [],
   "source": [
    "import requests\n",
    "import json\n",
    "from typing import Any, List, Tuple\n",
    "\n",
    "import numpy as np\n",
    "import torch\n",
    "from numpy import ndarray\n",
    "from tqdm import tqdm\n",
    "from torch.utils.data import DataLoader, Dataset\n",
    "from transformers import (  # type: ignore\n",
    "    AutoModelForSequenceClassification,\n",
    "    BatchEncoding,\n",
    "    AutoTokenizer,\n",
    "    PreTrainedTokenizerBase,\n",
    ")"
   ]
  },
  {
   "cell_type": "code",
   "execution_count": null,
   "metadata": {},
   "outputs": [],
   "source": [
    "class MyTextDataset(Dataset):  # type: ignore\n",
    "    def __init__(self, sentence_list: List[str]) -> None:\n",
    "        self.sentences = sentence_list\n",
    "\n",
    "    def __len__(self) -> int:\n",
    "        return len(self.sentences)\n",
    "\n",
    "    def __getitem__(self, idx: int) -> Tuple[int, str]:\n",
    "        return idx, self.sentences[idx]\n",
    "\n",
    "\n",
    "class MyCollateBatch:\n",
    "    def __init__(self, tokenizer: PreTrainedTokenizerBase) -> None:\n",
    "        self.tokenizer = tokenizer\n",
    "\n",
    "    def __call__(self, batch: List[Tuple[int, str]]) -> BatchEncoding:\n",
    "        sentences = [b[1] for b in batch]\n",
    "        idx = [b[0] for b in batch]\n",
    "\n",
    "        text = self.tokenizer(sentences, max_length=512, padding=\"max_length\", truncation=True, return_tensors=\"pt\")\n",
    "        text[\"idx\"] = idx\n",
    "        return text\n",
    "\n",
    "\n",
    "class ModelSentiment:\n",
    "    def __init__(self, model_folder: str, device: torch.device) -> None:\n",
    "        self.device = device\n",
    "        self.model_folder = model_folder\n",
    "\n",
    "        self.tokenizer = AutoTokenizer.from_pretrained(model_folder)  # type: ignore\n",
    "        self.model = AutoModelForSequenceClassification.from_pretrained(model_folder, return_dict=True)  # type: ignore\n",
    "        self.collate_fn = MyCollateBatch(self.tokenizer)\n",
    "\n",
    "        self.model.to(device)\n",
    "        self.model.eval()\n",
    "\n",
    "    def __call__(self, sentence_list: List[str]):\n",
    "        data_ds = MyTextDataset(sentence_list)\n",
    "        loader = DataLoader(data_ds, batch_size=1, collate_fn=self.collate_fn)\n",
    "        result = np.zeros((len(sentence_list), len(self.class_names())))\n",
    "        print('here')\n",
    "        for batch in tqdm(loader):\n",
    "            idx = batch[\"idx\"]\n",
    "            batch = {k: v.to(self.device) for k, v in batch.items() if k != \"idx\"}\n",
    "            with torch.no_grad():\n",
    "                outputs = self.model(**batch)\n",
    "                logits = outputs.logits\n",
    "                predictions = torch.softmax(logits, dim=-1)\n",
    "\n",
    "                result[idx, :] = predictions.to(\"cpu\").numpy()\n",
    "\n",
    "        return result\n",
    "\n",
    "    def class_names(self) -> Any:\n",
    "        return self.model.config.id2label"
   ]
  },
  {
   "cell_type": "code",
   "execution_count": null,
   "metadata": {},
   "outputs": [],
   "source": [
    "URL = \"https://service-index-ai.ethics.hse.ru\""
   ]
  },
  {
   "cell_type": "code",
   "execution_count": null,
   "metadata": {},
   "outputs": [],
   "source": [
    "r = requests.get(URL+\"/source\")"
   ]
  },
  {
   "cell_type": "code",
   "execution_count": null,
   "metadata": {},
   "outputs": [],
   "source": [
    "r.json()"
   ]
  },
  {
   "cell_type": "code",
   "execution_count": null,
   "metadata": {},
   "outputs": [],
   "source": [
    "r = requests.post(URL+\"/model\", data=json.dumps({\"model_name\":\"ethics_model_sentiment_e5\",\"model_type\":\"sentiment\"}))"
   ]
  },
  {
   "cell_type": "code",
   "execution_count": null,
   "metadata": {},
   "outputs": [],
   "source": [
    "model_id = r.json()[\"model_id\"]"
   ]
  },
  {
   "cell_type": "code",
   "execution_count": null,
   "metadata": {},
   "outputs": [],
   "source": [
    "model_id"
   ]
  },
  {
   "cell_type": "code",
   "execution_count": null,
   "metadata": {},
   "outputs": [],
   "source": [
    "device = torch.device(\"cuda\")"
   ]
  },
  {
   "cell_type": "code",
   "execution_count": null,
   "metadata": {},
   "outputs": [],
   "source": [
    "m = ModelSentiment(\"needed_e5_large\", device)"
   ]
  },
  {
   "cell_type": "code",
   "execution_count": null,
   "metadata": {},
   "outputs": [],
   "source": [
    "m"
   ]
  },
  {
   "cell_type": "code",
   "execution_count": null,
   "metadata": {},
   "outputs": [],
   "source": [
    "r.text"
   ]
  },
  {
   "cell_type": "code",
   "execution_count": null,
   "metadata": {
    "scrolled": true
   },
   "outputs": [],
   "source": [
    "params = {\n",
    "    \"sources\": [\n",
    "#         \"banki.ru/broker\",\n",
    "         \"banki.ru/mfo\",\n",
    "         \"banki.ru/insurance\",\n",
    "         \"vk.com/other\",\n",
    "#         \"irecommend.ru\",\n",
    "        \"vk.com/comments\",\n",
    "        \"banki.ru\",\n",
    "        \"sravni.ru\",\n",
    "#        \"irecommend.ru\",\n",
    "        \"banki.ru/news\",\n",
    "    ],\n",
    "    \"model_id\": 6,\n",
    "    \"limit\": 1000\n",
    "}\n",
    "for i in tqdm(range(100_000)):\n",
    "    r = requests.get(URL+\"/text/sentences\", params = params)\n",
    "    sentences = [elem[\"sentence\"] for elem in r.json()[\"items\"]]\n",
    "    ids = [elem[\"id\"] for elem in r.json()[\"items\"]]\n",
    "    with torch.no_grad():\n",
    "        result_sentences = m(sentences)\n",
    "    request_data = []\n",
    "    for result_arr, sentence_id in zip(result_sentences, ids):\n",
    "        request_data.append({\"model_id\": model_id, \"text_sentence_id\": sentence_id, \"text_result\":result_arr.tolist()})\n",
    "    r = requests.post(URL+\"/text_result/\", data=json.dumps({\"items\":request_data}))\n",
    "    if r.status_code != 201:\n",
    "        raise Exception(r.text)"
   ]
  },
  {
   "cell_type": "code",
   "execution_count": null,
   "metadata": {},
   "outputs": [],
   "source": [
    "print('finish')"
   ]
  },
  {
   "cell_type": "code",
   "execution_count": null,
   "metadata": {},
   "outputs": [],
   "source": []
  }
 ],
 "metadata": {
  "kernelspec": {
   "display_name": "Python 3 (ipykernel)",
   "language": "python",
   "name": "python3"
  },
  "language_info": {
   "codemirror_mode": {
    "name": "ipython",
    "version": 3
   },
   "file_extension": ".py",
   "mimetype": "text/x-python",
   "name": "python",
   "nbconvert_exporter": "python",
   "pygments_lexer": "ipython3",
   "version": "3.11.4"
  },
  "widgets": {
   "application/vnd.jupyter.widget-state+json": {
    "state": {},
    "version_major": 2,
    "version_minor": 0
   }
  }
 },
 "nbformat": 4,
 "nbformat_minor": 4
}
