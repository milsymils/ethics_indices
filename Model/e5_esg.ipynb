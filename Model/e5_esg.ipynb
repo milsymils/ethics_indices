{
 "cells": [
  {
   "cell_type": "code",
   "execution_count": null,
   "metadata": {},
   "outputs": [],
   "source": [
    "import torch "
   ]
  },
  {
   "cell_type": "code",
   "execution_count": null,
   "metadata": {
    "scrolled": true
   },
   "outputs": [],
   "source": [
    "# Ensure CUDA support is available \n",
    "if torch.cuda.is_available(): \n",
    "# Perform operations on GPU \n",
    "    device = torch.device(\"cuda\") # ... \n",
    "# Clear CUDA memory \n",
    "    torch.cuda.empty_cache() \n",
    "else: \n",
    "    print(\"CUDA is not available.\")"
   ]
  },
  {
   "cell_type": "code",
   "execution_count": null,
   "metadata": {},
   "outputs": [],
   "source": [
    "torch.cuda.empty_cache()"
   ]
  },
  {
   "cell_type": "code",
   "execution_count": null,
   "metadata": {},
   "outputs": [],
   "source": [
    "device = torch.device(\"cuda\") # ... \n",
    "# Clear CUDA memory \n",
    "torch.cuda.empty_cache() "
   ]
  },
  {
   "cell_type": "code",
   "execution_count": null,
   "metadata": {
    "colab": {
     "base_uri": "https://localhost:8080/"
    },
    "id": "EU7FCtl_uNM-",
    "outputId": "21b3beec-f452-4579-ca55-ca989cb76c23"
   },
   "outputs": [],
   "source": [
    "pip install accelerate -U"
   ]
  },
  {
   "cell_type": "code",
   "execution_count": null,
   "metadata": {
    "id": "MGlqjcSQyQgc"
   },
   "outputs": [],
   "source": [
    "!pip install -q accelerate evaluate -U"
   ]
  },
  {
   "cell_type": "code",
   "execution_count": null,
   "metadata": {
    "colab": {
     "base_uri": "https://localhost:8080/"
    },
    "id": "3JXLYQ43vDTj",
    "outputId": "0b9a5791-154b-48a1-fde2-14d95c907092"
   },
   "outputs": [],
   "source": [
    "!pip install --upgrade transformers"
   ]
  },
  {
   "cell_type": "code",
   "execution_count": null,
   "metadata": {
    "colab": {
     "base_uri": "https://localhost:8080/"
    },
    "id": "pT4wlVH1vlIL",
    "outputId": "ba846e25-e823-45a6-cdcd-40e32fa700cd"
   },
   "outputs": [],
   "source": [
    "%pip install --upgrade huggingface_hub"
   ]
  },
  {
   "cell_type": "code",
   "execution_count": null,
   "metadata": {
    "scrolled": true
   },
   "outputs": [],
   "source": [
    "!pip install torch torchvision torchaudio --index-url https://download.pytorch.org/whl/cu117"
   ]
  },
  {
   "cell_type": "code",
   "execution_count": null,
   "metadata": {
    "colab": {
     "base_uri": "https://localhost:8080/"
    },
    "id": "tc3d-sKcu2F0",
    "outputId": "4d265d4e-ad6d-4220-af3c-da704b85aee3"
   },
   "outputs": [],
   "source": [
    "import transformers\n",
    "print(transformers.__version__)"
   ]
  },
  {
   "cell_type": "code",
   "execution_count": null,
   "metadata": {
    "execution": {
     "iopub.execute_input": "2024-04-09T13:03:25.506653Z",
     "iopub.status.busy": "2024-04-09T13:03:25.505771Z",
     "iopub.status.idle": "2024-04-09T13:03:32.85099Z",
     "shell.execute_reply": "2024-04-09T13:03:32.850009Z",
     "shell.execute_reply.started": "2024-04-09T13:03:25.506616Z"
    },
    "id": "Kjb81MmDrpp9",
    "scrolled": true
   },
   "outputs": [],
   "source": [
    "# from transformers import BertForSequenceClassification, BertTokenizerFast, BertModel\\\n",
    "from transformers import AutoTokenizer, AutoModelForSequenceClassification\n",
    "#import torch\n",
    "from torch.utils.data import Dataset, DataLoader\n",
    "from sklearn.model_selection import train_test_split\n",
    "from sklearn.preprocessing import LabelEncoder\n",
    "import pandas as pd\n",
    "from transformers import Trainer, TrainingArguments\n",
    "import numpy as np\n",
    "from tqdm.autonotebook import tqdm\n",
    "from torch import nn"
   ]
  },
  {
   "cell_type": "code",
   "execution_count": null,
   "metadata": {},
   "outputs": [],
   "source": [
    "torch.cuda.is_available()\n"
   ]
  },
  {
   "cell_type": "code",
   "execution_count": null,
   "metadata": {},
   "outputs": [],
   "source": [
    "device = torch.device(\"cuda:0\")\n",
    "device"
   ]
  },
  {
   "cell_type": "code",
   "execution_count": null,
   "metadata": {
    "execution": {
     "iopub.execute_input": "2024-04-09T13:03:32.853327Z",
     "iopub.status.busy": "2024-04-09T13:03:32.85275Z",
     "iopub.status.idle": "2024-04-09T13:03:32.886323Z",
     "shell.execute_reply": "2024-04-09T13:03:32.885153Z",
     "shell.execute_reply.started": "2024-04-09T13:03:32.853299Z"
    },
    "id": "jeHmxVBSwUM2"
   },
   "outputs": [],
   "source": [
    "MAX_LEN = 512"
   ]
  },
  {
   "cell_type": "code",
   "execution_count": null,
   "metadata": {
    "execution": {
     "iopub.execute_input": "2024-04-09T13:03:32.888431Z",
     "iopub.status.busy": "2024-04-09T13:03:32.88767Z",
     "iopub.status.idle": "2024-04-09T13:03:32.907255Z",
     "shell.execute_reply": "2024-04-09T13:03:32.906363Z",
     "shell.execute_reply.started": "2024-04-09T13:03:32.888394Z"
    },
    "id": "mcFA8QxHsrvQ"
   },
   "outputs": [],
   "source": [
    "class BaseDataset(Dataset):\n",
    "    def __init__(self, dataframe, tokenizer, max_seq_len):\n",
    "        self.data = dataframe\n",
    "        self.text = dataframe['sentence'].tolist()\n",
    "        self.targets = None\n",
    "        if 'labels' in dataframe:\n",
    "            self.targets = dataframe['labels'].tolist()\n",
    "        self.tokenizer = tokenizer\n",
    "        self.max_seq_len = max_seq_len\n",
    "\n",
    "    def __getitem__(self, index):\n",
    "        text = str(self.text[index])\n",
    "        text = ' '.join(text.split())\n",
    "\n",
    "        inputs = self.tokenizer(\n",
    "            \"query: \"+text,\n",
    "            add_special_tokens=True,\n",
    "            max_length=self.max_seq_len,\n",
    "            padding='max_length',\n",
    "            return_token_type_ids=True,\n",
    "            truncation=True,\n",
    "            return_tensors=\"pt\",\n",
    "        )\n",
    "        text = inputs['input_ids'].squeeze(0)\n",
    "        attention = inputs['attention_mask'].squeeze(0)\n",
    "        token_type_ids = inputs[\"token_type_ids\"].squeeze(0)\n",
    "\n",
    "\n",
    "        if self.targets is not None:\n",
    "            return {\"input_ids\": text, \"attention_mask\": attention, \"token_type_ids\": token_type_ids, 'labels': torch.tensor(self.targets[index], dtype=torch.long)}\n",
    "        else:\n",
    "            return {\"input_ids\": text, \"attention_mask\": attention, \"token_type_ids\": token_type_ids}\n",
    "\n",
    "\n",
    "    def __len__(self) -> int:\n",
    "        return len(self.text)"
   ]
  },
  {
   "cell_type": "code",
   "execution_count": null,
   "metadata": {
    "id": "2d5N8RLfpxxy"
   },
   "outputs": [],
   "source": [
    "pd.set_option('display.max_colwidth', None)"
   ]
  },
  {
   "cell_type": "code",
   "execution_count": null,
   "metadata": {
    "colab": {
     "base_uri": "https://localhost:8080/",
     "height": 272
    },
    "execution": {
     "iopub.execute_input": "2024-04-09T13:03:32.908602Z",
     "iopub.status.busy": "2024-04-09T13:03:32.908345Z",
     "iopub.status.idle": "2024-04-09T13:03:33.213129Z",
     "shell.execute_reply": "2024-04-09T13:03:33.212092Z",
     "shell.execute_reply.started": "2024-04-09T13:03:32.908579Z"
    },
    "id": "JEZUlRJRwbPp",
    "outputId": "19b99c61-1175-45b8-9f06-8efaef395f74",
    "scrolled": true
   },
   "outputs": [],
   "source": [
    "train_data = pd.read_csv(\"parsed_reviews.csv\")\n",
    "train_data.head()"
   ]
  },
  {
   "cell_type": "code",
   "execution_count": null,
   "metadata": {
    "id": "zhPj9hOk0r3v"
   },
   "outputs": [],
   "source": [
    "train_data.rename(columns={'sentiment': 'labels'}, inplace=True)"
   ]
  },
  {
   "cell_type": "code",
   "execution_count": null,
   "metadata": {
    "colab": {
     "base_uri": "https://localhost:8080/",
     "height": 204
    },
    "id": "_YzNE_q_z3Lt",
    "outputId": "75843fba-56ba-41c5-f0aa-d50a0e784929"
   },
   "outputs": [],
   "source": [
    "train_data.head()"
   ]
  },
  {
   "cell_type": "code",
   "execution_count": null,
   "metadata": {
    "colab": {
     "base_uri": "https://localhost:8080/"
    },
    "id": "0jEKL0rUrNls",
    "outputId": "42778f72-b4bb-4104-cadb-5d376d77ced3"
   },
   "outputs": [],
   "source": [
    "train_data.info()"
   ]
  },
  {
   "cell_type": "code",
   "execution_count": null,
   "metadata": {
    "colab": {
     "base_uri": "https://localhost:8080/",
     "height": 436
    },
    "execution": {
     "iopub.execute_input": "2024-04-09T13:03:33.216531Z",
     "iopub.status.busy": "2024-04-09T13:03:33.215785Z",
     "iopub.status.idle": "2024-04-09T13:03:33.228429Z",
     "shell.execute_reply": "2024-04-09T13:03:33.227263Z",
     "shell.execute_reply.started": "2024-04-09T13:03:33.216503Z"
    },
    "id": "1ETK2ZBGwZX3",
    "outputId": "2b4a6251-9516-4dcc-89ba-bd56c67dbcbe",
    "scrolled": false
   },
   "outputs": [],
   "source": [
    "le = LabelEncoder()\n",
    "\n",
    "# Fit the label encoder to the unique labels\n",
    "unique_labels = ['?', '+', '−']\n",
    "le.fit(unique_labels)\n",
    "\n",
    "# Transform the labels using the fitted label encoder\n",
    "train_data[\"labels\"] = le.transform(train_data[\"labels\"])\n",
    "\n",
    "# Map the transformed labels to the desired numerical values\n",
    "label_mapping = {0: 1, 1: 0, 2: 2}\n",
    "train_data[\"labels\"] = train_data[\"labels\"].map(label_mapping)\n",
    "train_data"
   ]
  },
  {
   "cell_type": "code",
   "execution_count": null,
   "metadata": {
    "execution": {
     "iopub.execute_input": "2024-04-09T13:05:00.241098Z",
     "iopub.status.busy": "2024-04-09T13:05:00.240374Z",
     "iopub.status.idle": "2024-04-09T13:05:00.268538Z",
     "shell.execute_reply": "2024-04-09T13:05:00.267643Z",
     "shell.execute_reply.started": "2024-04-09T13:05:00.241056Z"
    },
    "id": "moVpGyAZwmbM"
   },
   "outputs": [],
   "source": [
    "train_split, val_split = train_test_split(train_data, train_size=0.8, random_state=42, stratify=train_data[\"labels\"])"
   ]
  },
  {
   "cell_type": "code",
   "execution_count": null,
   "metadata": {
    "execution": {
     "iopub.execute_input": "2024-04-09T13:03:54.167081Z",
     "iopub.status.busy": "2024-04-09T13:03:54.166309Z",
     "iopub.status.idle": "2024-04-09T13:03:54.172376Z",
     "shell.execute_reply": "2024-04-09T13:03:54.171292Z",
     "shell.execute_reply.started": "2024-04-09T13:03:54.167049Z"
    },
    "id": "3y59srnftyTN"
   },
   "outputs": [],
   "source": [
    "def read_model(model_name: str = \"DeepPavlov/rubert-base-cased\"):\n",
    "    model = AutoModelForSequenceClassification.from_pretrained(model_name, return_dict=True, num_labels=len(le.classes_))\n",
    "    tokenizer = AutoTokenizer.from_pretrained(model_name)\n",
    "    return model, tokenizer"
   ]
  },
  {
   "cell_type": "code",
   "execution_count": null,
   "metadata": {},
   "outputs": [],
   "source": [
    "len(le.classes_)"
   ]
  },
  {
   "cell_type": "code",
   "execution_count": null,
   "metadata": {
    "colab": {
     "base_uri": "https://localhost:8080/"
    },
    "execution": {
     "iopub.execute_input": "2024-04-09T13:04:26.233564Z",
     "iopub.status.busy": "2024-04-09T13:04:26.232655Z",
     "iopub.status.idle": "2024-04-09T13:04:28.659038Z",
     "shell.execute_reply": "2024-04-09T13:04:28.658246Z",
     "shell.execute_reply.started": "2024-04-09T13:04:26.233526Z"
    },
    "id": "KglYyHjsvLFb",
    "outputId": "7ccf560d-c83b-4062-d9a1-256fb7de02d8",
    "scrolled": true
   },
   "outputs": [],
   "source": [
    "model, tokenizer = read_model(\"intfloat/multilingual-e5-large\") \n",
    "model.to(device)"
   ]
  },
  {
   "cell_type": "code",
   "execution_count": null,
   "metadata": {},
   "outputs": [],
   "source": [
    "torch.cuda.is_available()"
   ]
  },
  {
   "cell_type": "code",
   "execution_count": null,
   "metadata": {
    "execution": {
     "iopub.execute_input": "2024-04-09T13:05:02.563098Z",
     "iopub.status.busy": "2024-04-09T13:05:02.56269Z",
     "iopub.status.idle": "2024-04-09T13:05:02.572107Z",
     "shell.execute_reply": "2024-04-09T13:05:02.571099Z",
     "shell.execute_reply.started": "2024-04-09T13:05:02.563069Z"
    },
    "id": "gmdKLWmFuzFM"
   },
   "outputs": [],
   "source": [
    "train_dataset = BaseDataset(train_split, tokenizer, MAX_LEN)\n",
    "val_dataset = BaseDataset(val_split, tokenizer, MAX_LEN)"
   ]
  },
  {
   "cell_type": "code",
   "execution_count": null,
   "metadata": {
    "execution": {
     "iopub.execute_input": "2024-04-09T13:05:09.154376Z",
     "iopub.status.busy": "2024-04-09T13:05:09.154009Z",
     "iopub.status.idle": "2024-04-09T13:05:10.256164Z",
     "shell.execute_reply": "2024-04-09T13:05:10.255152Z",
     "shell.execute_reply.started": "2024-04-09T13:05:09.154348Z"
    },
    "id": "Mw1CrwVd7BXu"
   },
   "outputs": [],
   "source": [
    "import evaluate\n",
    "metric = evaluate.load(\"f1\")\n",
    "\n",
    "def compute_metrics(eval_pred):\n",
    "    logits, labels = eval_pred\n",
    "    predictions = np.argmax(logits, axis=-1)\n",
    "    return metric.compute(predictions=predictions, references=labels, average='macro')"
   ]
  },
  {
   "cell_type": "code",
   "execution_count": null,
   "metadata": {
    "execution": {
     "iopub.execute_input": "2024-04-09T15:43:43.321374Z",
     "iopub.status.busy": "2024-04-09T15:43:43.320266Z",
     "iopub.status.idle": "2024-04-09T15:43:43.496521Z",
     "shell.execute_reply": "2024-04-09T15:43:43.495363Z",
     "shell.execute_reply.started": "2024-04-09T15:43:43.321337Z"
    },
    "id": "rE1kPz2XxXr0"
   },
   "outputs": [],
   "source": [
    "from transformers import SchedulerType\n",
    "\n",
    "training_args = TrainingArguments(\n",
    "    output_dir='./resultse5largefinal2',          # output directory\n",
    "    num_train_epochs=7,              # total number of training epochs\n",
    "    # warmup_steps=500,                # number of warmup steps for learning rate scheduler\n",
    "    weight_decay=0.01,   \n",
    "    learning_rate = 2e-5,\n",
    "    # strength of weight decay\n",
    "    logging_dir='./logsdeepe5largefinal2',            # directory for storing logs\n",
    "    logging_steps=50,\n",
    "      evaluation_strategy=\"epoch\",     # perform evaluation each epoch\n",
    "      #per_device_train_batch_size=32,\n",
    "      #per_device_eval_batch_size=8,\n",
    "    auto_find_batch_size=True,\n",
    "    save_strategy=\"epoch\",\n",
    "    report_to=None,\n",
    "   # lr_scheduler_type=SchedulerType.COSINE_WITH_RESTARTS,\n",
    "    logging_first_step=True,\n",
    ")\n",
    "\n",
    "trainer = Trainer(\n",
    "    model=model,\n",
    "    args=training_args,\n",
    "    train_dataset=train_dataset,\n",
    "    eval_dataset=val_dataset,\n",
    "    compute_metrics=compute_metrics,\n",
    ")"
   ]
  },
  {
   "cell_type": "code",
   "execution_count": null,
   "metadata": {
    "colab": {
     "base_uri": "https://localhost:8080/",
     "height": 340
    },
    "execution": {
     "iopub.execute_input": "2024-04-09T13:43:23.675769Z",
     "iopub.status.busy": "2024-04-09T13:43:23.675084Z",
     "iopub.status.idle": "2024-04-09T15:13:01.415743Z",
     "shell.execute_reply": "2024-04-09T15:13:01.414783Z",
     "shell.execute_reply.started": "2024-04-09T13:43:23.675737Z"
    },
    "id": "tyo-NH1dzgqm",
    "outputId": "7766e7da-73a6-4594-975e-a5fbdfb39624"
   },
   "outputs": [],
   "source": [
    "trainer.train()"
   ]
  },
  {
   "cell_type": "code",
   "execution_count": null,
   "metadata": {
    "id": "iWZSpSZj7eVU"
   },
   "outputs": [],
   "source": []
  },
  {
   "cell_type": "code",
   "execution_count": null,
   "metadata": {},
   "outputs": [],
   "source": []
  }
 ],
 "metadata": {
  "accelerator": "GPU",
  "colab": {
   "gpuType": "T4",
   "provenance": []
  },
  "kaggle": {
   "accelerator": "gpu",
   "dataSources": [],
   "dockerImageVersionId": 30674,
   "isGpuEnabled": true,
   "isInternetEnabled": true,
   "language": "python",
   "sourceType": "notebook"
  },
  "kernelspec": {
   "display_name": "Python 3 (ipykernel)",
   "language": "python",
   "name": "python3"
  },
  "language_info": {
   "codemirror_mode": {
    "name": "ipython",
    "version": 3
   },
   "file_extension": ".py",
   "mimetype": "text/x-python",
   "name": "python",
   "nbconvert_exporter": "python",
   "pygments_lexer": "ipython3",
   "version": "3.11.4"
  }
 },
 "nbformat": 4,
 "nbformat_minor": 1
}
