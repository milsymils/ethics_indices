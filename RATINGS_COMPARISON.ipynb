{
 "cells": [
  {
   "cell_type": "code",
   "execution_count": null,
   "id": "d2cef1b0",
   "metadata": {},
   "outputs": [],
   "source": [
    "import matplotlib.pyplot as plt\n",
    "import pandas as pd"
   ]
  },
  {
   "cell_type": "code",
   "execution_count": null,
   "id": "43a9f4ca",
   "metadata": {},
   "outputs": [],
   "source": [
    "df = pd.read_csv('ALL-INDICES.csv')\n",
    "df"
   ]
  },
  {
   "cell_type": "code",
   "execution_count": null,
   "id": "4a927900",
   "metadata": {},
   "outputs": [],
   "source": [
    "df = df[df['year']== 2022]\n",
    "df"
   ]
  },
  {
   "cell_type": "code",
   "execution_count": null,
   "id": "03d7348e",
   "metadata": {},
   "outputs": [],
   "source": [
    "df = df[df['source_type']== 'reviews']"
   ]
  },
  {
   "cell_type": "code",
   "execution_count": null,
   "id": "921c4c8b",
   "metadata": {},
   "outputs": [],
   "source": [
    "df = df[df['source_site']== 'banki.ru']"
   ]
  },
  {
   "cell_type": "code",
   "execution_count": null,
   "id": "c63fe970",
   "metadata": {},
   "outputs": [],
   "source": [
    "df = df[['year', 'quarter', 'bank_id', 'INDEX_SAFE', 'TOTAL', 'NEUTRAL', 'POS','NEG']]"
   ]
  },
  {
   "cell_type": "code",
   "execution_count": null,
   "id": "1421cd73",
   "metadata": {},
   "outputs": [],
   "source": [
    "mean_index_safe_per_year = df.groupby(['year', 'bank_id'])['INDEX_SAFE'].mean().reset_index()\n",
    "\n",
    "# Merge the mean INDEX_SAFE back to the original DataFrame\n",
    "df = pd.merge(df, mean_index_safe_per_year, on=['year', 'bank_id'], suffixes=('', '_mean'))\n",
    "\n",
    "# Rename the new column for clarity\n",
    "df.rename(columns={'INDEX_SAFE_mean': 'mean_index_safe'}, inplace=True)\n",
    "df = df[['year', 'bank_id', 'mean_index_safe']]\n",
    "# Display the DataFrame\n",
    "df.head()"
   ]
  },
  {
   "cell_type": "code",
   "execution_count": null,
   "id": "92052aef",
   "metadata": {},
   "outputs": [],
   "source": [
    "df = df.drop_duplicates()\n"
   ]
  },
  {
   "cell_type": "code",
   "execution_count": null,
   "id": "c0bb78b4",
   "metadata": {},
   "outputs": [],
   "source": [
    "bank_names = pd.read_csv('banki_ru_NAMES.csv')"
   ]
  },
  {
   "cell_type": "code",
   "execution_count": null,
   "id": "26ef91b5",
   "metadata": {},
   "outputs": [],
   "source": [
    "bank_names"
   ]
  },
  {
   "cell_type": "code",
   "execution_count": null,
   "id": "93c0900b",
   "metadata": {},
   "outputs": [],
   "source": [
    "banks_2022 = pd.read_csv('top2022.csv') #народный рейтинг banki.ru, 2022"
   ]
  },
  {
   "cell_type": "code",
   "execution_count": null,
   "id": "bb35de7d",
   "metadata": {},
   "outputs": [],
   "source": [
    "banks_2022"
   ]
  },
  {
   "cell_type": "code",
   "execution_count": null,
   "id": "a5a535bd",
   "metadata": {},
   "outputs": [],
   "source": [
    "banki_ru = pd.merge(banks_2022, bank_names, left_on='Bank', right_on='bank_name')\n",
    "\n",
    "banki_ru"
   ]
  },
  {
   "cell_type": "code",
   "execution_count": null,
   "id": "02730b47",
   "metadata": {
    "scrolled": true
   },
   "outputs": [],
   "source": [
    "df"
   ]
  },
  {
   "cell_type": "code",
   "execution_count": null,
   "id": "a1f886c9",
   "metadata": {},
   "outputs": [],
   "source": [
    "index_sorted = df.sort_values(by='mean_index_safe', ascending=False)\n",
    "index_sorted"
   ]
  },
  {
   "cell_type": "code",
   "execution_count": null,
   "id": "7eac03e5",
   "metadata": {},
   "outputs": [],
   "source": [
    "df_sorted_banks = pd.merge(index_sorted, bank_names, on='bank_id' )"
   ]
  },
  {
   "cell_type": "code",
   "execution_count": null,
   "id": "2a945869",
   "metadata": {},
   "outputs": [],
   "source": [
    "df_sorted_banks"
   ]
  },
  {
   "cell_type": "code",
   "execution_count": null,
   "id": "f2c187c4",
   "metadata": {},
   "outputs": [],
   "source": [
    "df_sorted_banks['Rank'] = df_sorted_banks['mean_index_safe'].rank(method='first', ascending=False).astype(int)\n",
    "df_sorted_banks"
   ]
  },
  {
   "cell_type": "code",
   "execution_count": null,
   "id": "0ac02138",
   "metadata": {},
   "outputs": [],
   "source": [
    "banki_ru"
   ]
  },
  {
   "cell_type": "code",
   "execution_count": null,
   "id": "fcf8ccdf",
   "metadata": {},
   "outputs": [],
   "source": [
    "from scipy.stats import spearmanr, kendalltau"
   ]
  },
  {
   "cell_type": "code",
   "execution_count": null,
   "id": "b3aa588f",
   "metadata": {
    "scrolled": true
   },
   "outputs": [],
   "source": [
    "df_compare = pd.merge(banki_ru[['bank_id', 'Rank', 'Bank', 'Rating']], df_sorted_banks[['bank_id', 'Rank', 'mean_index_safe']], on='bank_id')\n",
    "df_compare"
   ]
  },
  {
   "cell_type": "code",
   "execution_count": null,
   "id": "a1f3d512",
   "metadata": {},
   "outputs": [],
   "source": [
    "# Calculate Spearman’s Rank Correlation Coefficient (ρ)\n",
    "rho, _ = spearmanr(df_compare['Rank_x'], df_compare['Rank_y'])"
   ]
  },
  {
   "cell_type": "code",
   "execution_count": null,
   "id": "8728433a",
   "metadata": {},
   "outputs": [],
   "source": [
    "rho"
   ]
  },
  {
   "cell_type": "code",
   "execution_count": null,
   "id": "a87b3c07",
   "metadata": {},
   "outputs": [],
   "source": [
    "df_compare['Rating'] = df_compare['Rating'].str.replace(',', '.').astype(float)\n",
    "df_compare['Rating_norm'] = df_compare['Rating']/100"
   ]
  },
  {
   "cell_type": "code",
   "execution_count": null,
   "id": "ccdb1ce1",
   "metadata": {},
   "outputs": [],
   "source": [
    "df_compare['index_norm'] = (df_compare['mean_index_safe'] + 1) / 2"
   ]
  },
  {
   "cell_type": "code",
   "execution_count": null,
   "id": "daa559db",
   "metadata": {},
   "outputs": [],
   "source": [
    "\n",
    "df_compare['index_norm'].max()"
   ]
  },
  {
   "cell_type": "code",
   "execution_count": null,
   "id": "a2576dfe",
   "metadata": {},
   "outputs": [],
   "source": [
    "df_compare['Rating_norm'].max()"
   ]
  },
  {
   "cell_type": "code",
   "execution_count": null,
   "id": "87a5fb36",
   "metadata": {
    "scrolled": false
   },
   "outputs": [],
   "source": [
    "df_compare.head(200)"
   ]
  },
  {
   "cell_type": "code",
   "execution_count": null,
   "id": "3a28a213",
   "metadata": {},
   "outputs": [],
   "source": [
    "from sklearn.metrics import mean_absolute_error, mean_squared_error\n",
    "normalized_0_100 = df_compare['Rating_norm']\n",
    "normalized_neg1_1 = df_compare['index_norm']\n",
    "\n",
    "# Pearson Correlation Coefficient\n",
    "pearson_corr = np.corrcoef(normalized_0_100, normalized_neg1_1)[0, 1]\n",
    "\n",
    "# Mean Absolute Error (MAE)\n",
    "mae = mean_absolute_error(normalized_0_100, normalized_neg1_1)\n",
    "\n",
    "# Mean Squared Error (MSE)\n",
    "mse = mean_squared_error(normalized_0_100, normalized_neg1_1)\n",
    "\n",
    "# Root Mean Squared Error (RMSE)\n",
    "rmse = np.sqrt(mse)\n",
    "\n",
    "# Create a DataFrame to display the measures\n",
    "measures = {\n",
    "    'Measure': ['Pearson Correlation Coefficient', 'Mean Absolute Error (MAE)', 'Mean Squared Error (MSE)', 'Root Mean Squared Error (RMSE)'],\n",
    "    'Value': [pearson_corr, mae, mse, rmse]\n",
    "}\n",
    "\n",
    "measures_df = pd.DataFrame(measures)"
   ]
  },
  {
   "cell_type": "code",
   "execution_count": null,
   "id": "a127fed8",
   "metadata": {},
   "outputs": [],
   "source": [
    "measures_df"
   ]
  },
  {
   "cell_type": "code",
   "execution_count": null,
   "id": "11aeb14d",
   "metadata": {},
   "outputs": [],
   "source": []
  }
 ],
 "metadata": {
  "kernelspec": {
   "display_name": "Python 3 (ipykernel)",
   "language": "python",
   "name": "python3"
  },
  "language_info": {
   "codemirror_mode": {
    "name": "ipython",
    "version": 3
   },
   "file_extension": ".py",
   "mimetype": "text/x-python",
   "name": "python",
   "nbconvert_exporter": "python",
   "pygments_lexer": "ipython3",
   "version": "3.10.10"
  }
 },
 "nbformat": 4,
 "nbformat_minor": 5
}
